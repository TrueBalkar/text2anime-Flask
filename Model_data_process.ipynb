{
 "cells": [
  {
   "cell_type": "markdown",
   "id": "b611fa61",
   "metadata": {},
   "source": [
    "<h1 style=\"font-size: 64px\">Final data processing for Anime dataset</h1>"
   ]
  },
  {
   "cell_type": "markdown",
   "id": "813d1474",
   "metadata": {},
   "source": [
    "<h2 style=\"font-size: 48px\">Importing modules</h2>"
   ]
  },
  {
   "cell_type": "code",
   "execution_count": 1,
   "id": "db42b55a",
   "metadata": {},
   "outputs": [],
   "source": [
    "import pandas as pd\n",
    "import numpy as np\n",
    "from laserembeddings import Laser\n",
    "import string\n",
    "import copy\n",
    "from nltk.stem import PorterStemmer\n",
    "from nltk.tokenize import word_tokenize\n",
    "from nltk.corpus import stopwords\n",
    "import warnings\n",
    "#import scipy\n",
    "#from threading import Thread\n",
    "#from threading import current_thread\n",
    "#from timeit import default_timer\n",
    "#import matplotlib as mpl\n",
    "#import matplotlib.pyplot as plt\n",
    "#import re\n",
    "#import seaborn as sns\n",
    "#from sklearn.metrics.pairwise import cosine_similarity, euclidean_distances\n",
    "#from sklearn.feature_extraction.text import TfidfVectorizer\n",
    "#import collections as coll\n",
    "#from sklearn.cluster import KMeans\n",
    "#from textblob import TextBlob\n",
    "#import missingno as msno\n",
    "#import spacy\n",
    "#nlp = spacy.load('en_core_web_sm')\n",
    "#Lets add some style\n",
    "#import ast"
   ]
  },
  {
   "cell_type": "code",
   "execution_count": 2,
   "id": "133262c2",
   "metadata": {},
   "outputs": [],
   "source": [
    "#sns.set_style(\"dark\")\n",
    "warnings.simplefilter(action='ignore')\n",
    "stop = stopwords.words('english')"
   ]
  },
  {
   "cell_type": "code",
   "execution_count": 6,
   "id": "a3e0896f",
   "metadata": {},
   "outputs": [],
   "source": [
    "path_to_bpe_codes = \"Laser_embd_down/93langs.fcodes\"\n",
    "path_to_bpe_vocab = \"Laser_embd_down/93langs.fvocab\"\n",
    "path_to_encoder = \"Laser_embd_down/bilstm.93langs.2018-12-26.pt\"\n",
    "laser = Laser(path_to_bpe_codes, path_to_bpe_vocab, path_to_encoder)"
   ]
  },
  {
   "cell_type": "code",
   "execution_count": 7,
   "id": "6ef012fe",
   "metadata": {},
   "outputs": [],
   "source": [
    "df = pd.read_json(\"Clean_anime_general.json\")\n",
    "desc = pd.read_json(\"Description.json\")\n",
    "char_desc = pd.read_json(\"Character Description.json\")\n",
    "reviews = pd.read_json(\"Reviews embed.json\")\n",
    "shiet = pd.read_json(\"Processsed text.json\", typ='series')"
   ]
  },
  {
   "cell_type": "code",
   "execution_count": 5,
   "id": "24fa2412",
   "metadata": {
    "scrolled": true
   },
   "outputs": [],
   "source": [
    "def embed_sentence(sentence, print_text=None):\n",
    "    return laser.embed_sentences(sentence, lang=\"en\").reshape(1024)"
   ]
  },
  {
   "cell_type": "code",
   "execution_count": 6,
   "id": "41381a8a",
   "metadata": {},
   "outputs": [],
   "source": [
    "def LASER_this_columns(embed=None):\n",
    "    if embed:\n",
    "        for column in [\"Description\", \"Character Description\", \"Reviews\"]:\n",
    "            last = df.index.max() + 1\n",
    "            progress_bar = 5\n",
    "            print_str = \"[....................]\"\n",
    "            vectors = []\n",
    "            for index in df.index:\n",
    "                if (round(((index + 1) / last * 100), 5) // progress_bar) == 1:\n",
    "                    print_str = list(print_str)\n",
    "                    print_str[progress_bar // 5] = \"■\"\n",
    "                    print_str = \"\".join(print_str)\n",
    "                    progress_bar += 5\n",
    "                print(f\"{column}: finished for {print_str} {round(((index + 1) / last * 100), 2)}%      [{index + 1}/{last}]           \", end=\"\\r\")\n",
    "                buffer = []\n",
    "                for item in df[column][index]:\n",
    "                    buffer.append(embed_sentence(item))\n",
    "                if len(buffer) > 1:\n",
    "                    vectors.append(pd.DataFrame(np.array(buffer)).mean().values)\n",
    "                elif len(buffer) == 1:\n",
    "                    vectors.append(np.array(buffer))\n",
    "                else:\n",
    "                    vectors.append(np.NaN)\n",
    "            pd.DataFrame(vectors).to_json(f\"{column}.csv\")\n",
    "            print(f\"\\n{column}.json file successfully written!\")\n",
    "    else:\n",
    "        print(\"Description: finished for [■■■■■■■■■■■■■■■■■■■■] 100%      [18736/18736]\")\n",
    "        print(\"Description.json file successfully written!\")\n",
    "        print(\"Character Description: finished for [■■■■■■■■■■■■■■■■■■■■] 100%      [18736/18736]\")\n",
    "        print(\"Character Description.json file successfully written!\")\n",
    "        print(\"Reviews: finished for [■■■■■■■■■■■■■■■■■■■■] 100%      [18736/18736]\")\n",
    "        print(\"Reviews.json file successfully written!\")"
   ]
  },
  {
   "cell_type": "code",
   "execution_count": 7,
   "id": "36f94682",
   "metadata": {},
   "outputs": [
    {
     "name": "stdout",
     "output_type": "stream",
     "text": [
      "Description: finished for [■■■■■■■■■■■■■■■■■■■■] 100%      [18736/18736]\n",
      "Description.json file successfully written!\n",
      "Character Description: finished for [■■■■■■■■■■■■■■■■■■■■] 100%      [18736/18736]\n",
      "Character Description.json file successfully written!\n",
      "Reviews: finished for [■■■■■■■■■■■■■■■■■■■■] 100%      [18736/18736]\n",
      "Reviews.json file successfully written!\n"
     ]
    }
   ],
   "source": [
    "LASER_this_columns(embed=False)"
   ]
  },
  {
   "cell_type": "code",
   "execution_count": 8,
   "id": "fa567540",
   "metadata": {},
   "outputs": [],
   "source": [
    "reviews = reviews.fillna(0)"
   ]
  },
  {
   "cell_type": "code",
   "execution_count": 23,
   "id": "6fd60a23",
   "metadata": {},
   "outputs": [],
   "source": [
    "char_desc_general = char_desc.mean()\n",
    "reviews_general = reviews.mean()\n",
    "desc_general = desc.mean()"
   ]
  },
  {
   "cell_type": "code",
   "execution_count": 10,
   "id": "2e232267",
   "metadata": {},
   "outputs": [],
   "source": [
    "#shiet = df[\"Description\"].str.join(\" \") + df[\"Character Description\"].str.join(\" \") + df[\"Reviews\"].str.join(\" \")\n",
    "#shiet = shiet.fillna(\"\")\n",
    "#shiet = shiet.apply(lambda x: ' '.join([word for word in x.split() if word not in stop])).str.replace('[{}]'.format(string.punctuation), '')"
   ]
  },
  {
   "cell_type": "code",
   "execution_count": 11,
   "id": "295a9d7d",
   "metadata": {},
   "outputs": [
    {
     "data": {
      "text/plain": [
       "0        Substitute Soul Reaper Ichigo Kurosaki spends ...\n",
       "1        After horrific alchemy experiment goes wrong E...\n",
       "2        The elite members Shuchiin Academys student co...\n",
       "3        Eccentric scientist Rintarou Okabe neverending...\n",
       "4        Gintoki Shinpachi Kagura return funloving brok...\n",
       "                               ...                        \n",
       "18731    Once upon time two rival kingdoms get along Ev...\n",
       "18732    No synopsis information added title Help impro...\n",
       "18733    Mini anime shorts included four Bluray release...\n",
       "18734    mobile fantasy RPG using characters manga maga...\n",
       "18735    A world established people routinely swing sli...\n",
       "Length: 18736, dtype: object"
      ]
     },
     "execution_count": 11,
     "metadata": {},
     "output_type": "execute_result"
    }
   ],
   "source": [
    "#shiet"
   ]
  },
  {
   "cell_type": "code",
   "execution_count": 12,
   "id": "e6da2360",
   "metadata": {},
   "outputs": [
    {
     "name": "stdout",
     "output_type": "stream",
     "text": [
      "[18736/18736]\r"
     ]
    }
   ],
   "source": [
    "#ps = PorterStemmer()\n",
    "#for index, item in zip(shiet.index, shiet):\n",
    "#    print(f\"[{index + 1}/{len(shiet)}]\", end=\"\\r\")\n",
    "#    stemmed = \"\"\n",
    "#    words = word_tokenize(item)\n",
    "#    for w in words:\n",
    "#        stemmed += f\"{ps.stem(w)} \"\n",
    "#    shiet[index] = stemmed"
   ]
  },
  {
   "cell_type": "code",
   "execution_count": 16,
   "id": "c99ca410",
   "metadata": {},
   "outputs": [
    {
     "data": {
      "text/plain": [
       "0        substitut soul reaper ichigo kurosaki spend da...\n",
       "1        after horrif alchemi experi goe wrong elric ho...\n",
       "2        the elit member shuchiin academi student counc...\n",
       "3        eccentr scientist rintar okab neverend thirst ...\n",
       "4        gintoki shinpachi kagura return funlov broke m...\n",
       "                               ...                        \n",
       "18731    onc upon time two rival kingdom get along ever...\n",
       "18732    no synopsi inform ad titl help improv databas ...\n",
       "18733     mini anim short includ four bluray releas n n f \n",
       "18734    mobil fantasi rpg use charact manga magazin br...\n",
       "18735    a world establish peopl routin swing slightli ...\n",
       "Length: 18736, dtype: object"
      ]
     },
     "execution_count": 16,
     "metadata": {},
     "output_type": "execute_result"
    }
   ],
   "source": [
    "shiet"
   ]
  },
  {
   "cell_type": "code",
   "execution_count": 13,
   "id": "579c1e53",
   "metadata": {},
   "outputs": [
    {
     "data": {
      "text/plain": [
       "'Story about organisation of assassins, that the main character was put in unknowingly. That organisation was created solely for the purpose of changing current Empire!'"
      ]
     },
     "execution_count": 13,
     "metadata": {},
     "output_type": "execute_result"
    }
   ],
   "source": [
    "'Story about organisation of assassins, that the main character was put in unknowingly. That organisation was created solely for the purpose of changing current Empire!'"
   ]
  },
  {
   "cell_type": "code",
   "execution_count": 28,
   "id": "2ab53385",
   "metadata": {
    "scrolled": false
   },
   "outputs": [
    {
     "name": "stdout",
     "output_type": "stream",
     "text": [
      "[STARTING]...                                                                                     \n",
      "\n",
      "Use automatic weights? (y/n): y\n",
      "Progress: [■■■■■■■■■■■■■■■■■■■■]                                                                            \n",
      "QUERY: Naruto\n",
      "\n",
      "TITLES\n",
      "1509               Naruto: Shippuuden - Sunny Side Battle\n",
      "10314                                        Keraku no Ou\n",
      "9764                     Wang Gu Shenhua Zhi Tian Xuanzhe\n",
      "11005    Kamiusagi Rope x Boruto: Naruto Next Generations\n",
      "7177                                   Kuiba: Shiwanhuoji\n",
      "16305                                           Aqua Kids\n",
      "4322                                        Ling Jian Zun\n",
      "7319                                       Qian Cong Shou\n",
      "5445                                       Xing Hai Qishi\n",
      "3504                 Happy Birthday: Inochi Kagayaku Toki\n",
      "8219                                                Blade\n",
      "10345                          Yonhyaku-nijuu Renpai Girl\n",
      "3385                            Anyamal Tantei Kiruminzoo\n",
      "12859                                              Juliet\n",
      "1379                                              Deaimon\n",
      "6839          Hataraku Otona no Renai Jijou The Animation\n",
      "7143                                       Kagewani: Shou\n",
      "8211                            Giniro no Olynsis: Tokito\n",
      "7949                                      Ningen Kousaten\n",
      "10545                          Canvas: Sepia-iro no Motif\n",
      "10985                                       Karadasagashi\n",
      "2494                                   Sousei no Onmyouji\n",
      "11989     Ore ga Suki nano wa Imouto dakedo Imouto ja Nai\n",
      "10272                                Dokyuu Hentai HxEros\n",
      "Name: Title, dtype: object\n",
      "\n",
      "GENRES\n",
      "1509                    Comedy, Gourmet, Fantasy\n",
      "10314                                     Hentai\n",
      "9764                              Sci-Fi, Action\n",
      "11005                                     Comedy\n",
      "7177                  Adventure, Action, Fantasy\n",
      "16305                                  Adventure\n",
      "4322         Adventure, Romance, Action, Fantasy\n",
      "7319                     Sci-Fi, Action, Fantasy\n",
      "5445                     Sci-Fi, Action, Fantasy\n",
      "3504                        Drama, Slice of Life\n",
      "8219                       Action, Drama, Horror\n",
      "10345                            Romance, Comedy\n",
      "3385                                      Comedy\n",
      "12859                Comedy, Supernatural, Ecchi\n",
      "1379                               Slice of Life\n",
      "6839                                      Hentai\n",
      "7143     Mystery, Supernatural, Suspense, Horror\n",
      "8211                   Adventure, Romance, Drama\n",
      "7949                Sports, Drama, Slice of Life\n",
      "10545             Romance, Comedy, Slice of Life\n",
      "10985                                     Horror\n",
      "2494                    Romance, Action, Fantasy\n",
      "11989                     Romance, Comedy, Ecchi\n",
      "10272        Comedy, Action, Supernatural, Ecchi\n",
      "Name: Genres, dtype: object\n",
      "\n",
      "THEMES\n",
      "1509     Performing Arts, School, Music\n",
      "10314                             Harem\n",
      "9764     Performing Arts, School, Music\n",
      "11005                             Music\n",
      "7177         Anthropomorphic, Childcare\n",
      "16305                             Music\n",
      "4322                       Martial Arts\n",
      "7319     Performing Arts, School, Music\n",
      "5445     Performing Arts, School, Music\n",
      "3504                          Iyashikei\n",
      "8219                            Vampire\n",
      "10345                            School\n",
      "3385                              Music\n",
      "12859               Samurai, Historical\n",
      "1379               Workplace, Childcare\n",
      "6839                              Harem\n",
      "7143                            Vampire\n",
      "8211                              Mecha\n",
      "7949     Performing Arts, School, Music\n",
      "10545                       Visual Arts\n",
      "10985                            School\n",
      "2494     Performing Arts, School, Music\n",
      "11989                 School, Gag Humor\n",
      "10272                            School\n",
      "Name: Themes, dtype: object\n",
      "\n",
      "WEIGHTS\n",
      "Description: 18.12656318633763\n",
      "Character Description: 90.30656835046965\n",
      "Reviews: -8.433131536807288\n",
      "PERCENTS\n",
      "CONTEXTUAL | WORDS\n",
      "1509   |   0.35062318123814706   |   0.5\n",
      "10314   |   0.3500455717313934   |   0.5\n",
      "9764   |   0.3448958821443444   |   0.5\n",
      "11005   |   0.34403644470459493   |   0.5\n",
      "7177   |   0.3400031430108801   |   0.5\n",
      "16305   |   0.33989964843261444   |   0.5\n",
      "4322   |   0.33865424361657137   |   0.5\n",
      "7319   |   0.3360125615927121   |   0.5\n",
      "5445   |   0.3312125466006368   |   0.5\n",
      "3504   |   0.1727636170501694   |   0.5\n",
      "8219   |   0.17018838992252938   |   0.5\n",
      "10345   |   0.16809197746702298   |   0.5\n",
      "3385   |   0.1669752225313792   |   0.5\n",
      "12859   |   0.16572407542287615   |   0.5\n",
      "1379   |   0.16217949010322508   |   0.5\n",
      "6839   |   0.16180446657861425   |   0.5\n",
      "7143   |   0.16010822614472398   |   0.5\n",
      "8211   |   0.1600095684503724   |   0.5\n",
      "7949   |   0.15856267133992985   |   0.5\n",
      "10545   |   0.15647343802110925   |   0.5\n",
      "10985   |   0.15628086873943503   |   0.5\n",
      "2494   |   0.15313062468704952   |   0.5\n",
      "11989   |   0.15300000272536596   |   0.5\n",
      "10272   |   0.15258043051968495   |   0.5\n"
     ]
    }
   ],
   "source": [
    "print(\"[STARTING]...                                                                                     \")\n",
    "# 1: Char description, 2: Reviews, 3: Description\n",
    "query = 'Naruto'\n",
    "query_show = copy.copy(query)\n",
    "query = embed_sentence(query)\n",
    "data = pd.DataFrame([query], index=[\"string\"]).T\n",
    "data[\"item\"] = np.NaN\n",
    "\n",
    "weights = [0.0, 0.0, 1.0]\n",
    "if input(\"\\nUse automatic weights? (y/n): \") == \"y\":\n",
    "    buffer_w = pd.Series(index=['char_desc', 'reviews', 'desc'])\n",
    "    data[\"item\"] = char_desc_general\n",
    "    buffer_w['char_desc'] = data.corr()[\"item\"][\"string\"]\n",
    "    data[\"item\"] = reviews_general\n",
    "    buffer_w['reviews'] = data.corr()[\"item\"][\"string\"]\n",
    "    data[\"item\"] = desc_general\n",
    "    buffer_w['desc'] = data.corr()[\"item\"][\"string\"]\n",
    "\n",
    "    suma = buffer_w[\"char_desc\"] + buffer_w[\"reviews\"] + buffer_w[\"desc\"]\n",
    "    weights[0] = (buffer_w[\"char_desc\"] / suma) * 100\n",
    "    weights[1] = (buffer_w[\"reviews\"] / suma) * 100\n",
    "    weights[2] = (buffer_w[\"desc\"] / suma) * 100\n",
    "\n",
    "query_preprocess = word_tokenize(pd.Series(query_show).apply(lambda x: ' '.join([word for word in x.split() if word not in stop])).str.replace('[{}]'.format(string.punctuation), '')[0])\n",
    "stemmed = []\n",
    "for w in query_preprocess:\n",
    "    stemmed.append(ps.stem(w))\n",
    "query_preprocess = copy.copy(stemmed)\n",
    "\n",
    "new_feature = pd.Series(0, index=df.index)\n",
    "last = len(query_preprocess)\n",
    "for current, word in enumerate(query_preprocess):\n",
    "    print(f\"Preprocessing query...   [{current + 1}/{last}]\", end=\"\\r\")\n",
    "    new_feature += (shiet.str.find(word) > -1).astype(\"int64\")\n",
    "new_feature /= new_feature.max()\n",
    "new_feature /= 2\n",
    "    \n",
    "test = char_desc.iloc[reviews.dropna().index] * weights[0] + reviews.dropna() * weights[1] + desc.iloc[reviews.dropna().index] * weights[2]\n",
    "    \n",
    "buff = pd.Series(index=reviews.dropna().index)\n",
    "last = len(reviews.dropna())\n",
    "progress_bar = 5\n",
    "print_str = \"[....................]\"\n",
    "current = 1\n",
    "print(f\"Progress: {print_str}                                                                            \", end='\\r')\n",
    "for index, item in zip(test.index, \n",
    "                       test.values):\n",
    "    if (round((current / last * 100), 2) // progress_bar) == 1:\n",
    "        print_str = list(print_str)\n",
    "        print_str[progress_bar // 5] = \"■\"\n",
    "        print_str = \"\".join(print_str)\n",
    "        progress_bar += 5\n",
    "        print(f\"Progress: {print_str}                                                                            \", end='\\r')\n",
    "    current += 1\n",
    "    data[\"item\"] = item\n",
    "    buff[index] = data.corr()[\"item\"][\"string\"]\n",
    "buff /= 2\n",
    "buff += new_feature\n",
    "print(f\"\\nQUERY: {query_show}\\n\")\n",
    "print(\"TITLES\")\n",
    "print(df[\"Title\"][buff.nlargest(24).index], end=\"\\n\\n\")\n",
    "print(\"GENRES\")\n",
    "print(df[\"Genres\"][buff.nlargest(24).index], end=\"\\n\\n\")\n",
    "print(\"THEMES\")\n",
    "print(df[\"Themes\"][buff.nlargest(24).index], end=\"\\n\\n\")\n",
    "print(\"WEIGHTS\")\n",
    "print(f\"Description: {weights[2]}\\nCharacter Description: {weights[0]}\\nReviews: {weights[1]}\")\n",
    "print(\"PERCENTS\\nCONTEXTUAL | WORDS\")\n",
    "for i in buff.nlargest(24).index:\n",
    "    print(f\"{i}   |   {buff[i] - new_feature[i]}   |   {new_feature[i]}\")\n",
    "#print(buff.nlargest(10))"
   ]
  },
  {
   "cell_type": "code",
   "execution_count": 103,
   "id": "02a40df6",
   "metadata": {},
   "outputs": [
    {
     "data": {
      "text/plain": [
       "1781          Akame ga Kill!\n",
       "5355    Akame ga Kill! Recap\n",
       "Name: Title, dtype: object"
      ]
     },
     "execution_count": 103,
     "metadata": {},
     "output_type": "execute_result"
    }
   ],
   "source": [
    "df.Title.where(df.Title.str.find(\"Akame\") > -1).dropna()"
   ]
  },
  {
   "cell_type": "code",
   "execution_count": null,
   "id": "ee945da1",
   "metadata": {},
   "outputs": [],
   "source": [
    "1781"
   ]
  },
  {
   "cell_type": "code",
   "execution_count": 111,
   "id": "e5f1157d",
   "metadata": {},
   "outputs": [
    {
     "data": {
      "text/plain": [
       "6523     0.641885\n",
       "90       0.638567\n",
       "3002     0.630761\n",
       "2930     0.623368\n",
       "495      0.615842\n",
       "1586     0.613831\n",
       "3270     0.611246\n",
       "1191     0.610932\n",
       "377      0.609242\n",
       "10265    0.607617\n",
       "3364     0.607388\n",
       "2478     0.604837\n",
       "11475    0.604193\n",
       "369      0.603213\n",
       "1982     0.602931\n",
       "6818     0.601344\n",
       "4923     0.601221\n",
       "427      0.600440\n",
       "1242     0.596457\n",
       "2339     0.595543\n",
       "3952     0.593507\n",
       "5032     0.592771\n",
       "759      0.589935\n",
       "1781     0.589545\n",
       "dtype: float64"
      ]
     },
     "execution_count": 111,
     "metadata": {},
     "output_type": "execute_result"
    }
   ],
   "source": [
    "buff.sort_values(ascending=False)[:24]"
   ]
  },
  {
   "cell_type": "code",
   "execution_count": 102,
   "id": "a005c6e4",
   "metadata": {},
   "outputs": [
    {
     "data": {
      "text/plain": [
       "6523                                      AkaKill! Gekijou\n",
       "90                                          Road of Naruto\n",
       "3002                                              07-Ghost\n",
       "2930                                 Groove Adventure Rave\n",
       "495      Detective Conan Movie 18: The Sniper from Anot...\n",
       "1586                                      Fate/Grand Order\n",
       "3270      Naruto SD: Rock Lee no Seishun Full-Power Ninden\n",
       "1191                                Dragon Ball Kai (2014)\n",
       "377                                        Detective Conan\n",
       "10265                      Boruto: Naruto Next Generations\n",
       "3364     Naruto: Shippuuden - Shippuu! \"Konoha Gakuen\" Den\n",
       "2478                                 Zettai Karen Children\n",
       "11475                             Super Dragon Ball Heroes\n",
       "369        Detective Conan Movie 20: The Darkest Nightmare\n",
       "1982                                     Dragon Ball Super\n",
       "6818                                        Dragon Ball GT\n",
       "4923                            Toaru Majutsu no Index III\n",
       "427                                            Overlord IV\n",
       "1242                               Hanma Baki: Son of Ogre\n",
       "2339     Naruto: Shippuuden Movie 3 - Hi no Ishi wo Tsu...\n",
       "Name: Title, dtype: object"
      ]
     },
     "execution_count": 102,
     "metadata": {},
     "output_type": "execute_result"
    }
   ],
   "source": [
    "df[\"Title\"][buff.nlargest(20).index]"
   ]
  },
  {
   "cell_type": "code",
   "execution_count": 49,
   "id": "bd831797",
   "metadata": {},
   "outputs": [
    {
     "data": {
      "text/plain": [
       "['Eccentric scientist Rintarou Okabe has a never-ending thirst for scientific exploration. Together with his ditzy but well-meaning friend Mayuri Shiina and his roommate Itaru Hashida, Rintarou founds the Future Gadget Laboratory in the hopes of creating technological innovations that baffle the human psyche. Despite claims of grandeur, the only notable \"gadget\" the trio have created is a microwave that has the mystifying power to turn bananas into green goo.  However, when Rintarou decides to attend neuroscientist Kurisu Makise\\'s conference on time travel, he experiences a series of strange events that lead him to believe that there is more to the \"Phone Microwave\" gadget than meets the eye. Apparently able to send text messages into the past using the microwave, Rintarou dabbles further with the \"time machine,\" attracting the ire and attention of the mysterious organization SERN.  Due to the novel discovery, Rintarou and his friends find themselves in an ever-present danger. As he works to mitigate the damage his invention has caused to the timeline, he is not only fighting a battle to save his loved ones, but also one against his degrading sanity.  [Written by MAL Rewrite]']"
      ]
     },
     "execution_count": 49,
     "metadata": {},
     "output_type": "execute_result"
    }
   ],
   "source": [
    "df[\"Description\"][3]"
   ]
  },
  {
   "cell_type": "code",
   "execution_count": 120,
   "id": "aba97d99",
   "metadata": {},
   "outputs": [
    {
     "data": {
      "text/plain": [
       "0.6029326232868121"
      ]
     },
     "execution_count": 120,
     "metadata": {},
     "output_type": "execute_result"
    }
   ],
   "source": [
    "buff[75]"
   ]
  },
  {
   "cell_type": "code",
   "execution_count": 116,
   "id": "87d9a9d9",
   "metadata": {},
   "outputs": [
    {
     "data": {
      "text/plain": [
       "75                                              Death Note\n",
       "1133                                   Death Note: Rewrite\n",
       "1607     Lord El-Melloi II Sei no Jikenbo: Rail Zeppeli...\n",
       "2138     Lord El-Melloi II Sei no Jikenbo: Rail Zeppeli...\n",
       "2413                                        Robotics;Notes\n",
       "2521           Boku no Hero Academia 2nd Season: Hero Note\n",
       "2887                        Soushisouai Note The Animation\n",
       "3525     Lord El-Melloi II Sei no Jikenbo: Rail Zeppeli...\n",
       "5107                                           Hinako Note\n",
       "8307                             Tantei Team KZ Jiken Note\n",
       "8743                           Ayatsuri Haramase DreamNote\n",
       "9328                                     Girlfriend (Note)\n",
       "9478                            Grimms Notes The Animation\n",
       "10957    Shiritsutantei: Toki Shouzou Trouble Note - Ha...\n",
       "12233                                           Tesla Note\n",
       "12708                     Miko Note Episode 0: Zenjitsudan\n",
       "13205               Nissan Note x The World of Golden Eggs\n",
       "14782    Tesla Note: Mickey to Oliver no Agent Yousei K...\n",
       "15680                                             XYZ Note\n",
       "Name: Title, dtype: object"
      ]
     },
     "execution_count": 116,
     "metadata": {},
     "output_type": "execute_result"
    }
   ],
   "source": [
    "df[\"Title\"].where(df[\"Title\"].str.find(\"Note\") > -1).dropna()"
   ]
  },
  {
   "cell_type": "code",
   "execution_count": null,
   "id": "54f35c2c",
   "metadata": {},
   "outputs": [],
   "source": []
  }
 ],
 "metadata": {
  "kernelspec": {
   "display_name": "Python 3 (ipykernel)",
   "language": "python",
   "name": "python3"
  },
  "language_info": {
   "codemirror_mode": {
    "name": "ipython",
    "version": 3
   },
   "file_extension": ".py",
   "mimetype": "text/x-python",
   "name": "python",
   "nbconvert_exporter": "python",
   "pygments_lexer": "ipython3",
   "version": "3.10.6"
  }
 },
 "nbformat": 4,
 "nbformat_minor": 5
}
